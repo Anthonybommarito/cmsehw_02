{
 "cells": [
  {
   "cell_type": "markdown",
   "metadata": {},
   "source": [
    "### <p style=\"text-align: right;\"> &#9989; Put your names here</p>"
   ]
  },
  {
   "cell_type": "markdown",
   "metadata": {},
   "source": [
    "# Homework Assignment #2 (Group)\n",
    "## Solving the trajectory of a cannonball\n",
    "<img src=\"https://s3-eu-west-1.amazonaws.com/functionsandgraphs/cannonball+trajectory.png\" width=400px>"
   ]
  },
  {
   "cell_type": "markdown",
   "metadata": {},
   "source": [
    "### Goals for this homework assignment\n",
    "By the end of this assignment, you should be able to:\n",
    "* Compute solutions to a system a Ordinary Different Equations (ODEs) using the forward Euler method and the midpoint method.\n",
    "* Describe the difference in accuracy between these two solutions as a function of step size.\n",
    "\n",
    "### Assignment instructions\n",
    "\n",
    "Work in your assigned group through the following assignment, making sure to follow all of the directions and answer all of the questions. You only need to submit one notebook per group. You may wish to create a Git repository for keeping track of your work and facilitating collaboration between your group. If you do so, I strongly encourage you to considering writing your code using Python scripts to simplify the version control process. If you write any scripts, you should plan on uploading them to D2L along with this notebook.\n",
    "\n",
    "**This assignment is due roughly two weeks from now at 11:59pm on Sunday, February 11th.** It should be uploaded into the \"Homework Assignments\" dropbox folder for Homework #2.  Submission instructions can be found at the end of the notebook.\n",
    "\n",
    "### Grading\n",
    "\n",
    "1. Question 1: modeling the trajectory with forward euler (10 points)\n",
    "2. Question 2: modeling the trajectory with the midpoint method (6 points)\n",
    "3. Question 3: adding air resistance to the model (6 points)\n",
    "4. Question 4: comparing solutions (3 points)\n",
    "\n",
    "Total points: **25**"
   ]
  },
  {
   "cell_type": "markdown",
   "metadata": {},
   "source": [
    "---\n",
    "## Modeling a cannonball trajectory using numerical methods"
   ]
  },
  {
   "cell_type": "markdown",
   "metadata": {},
   "source": [
    "In this assignment, you are going to model a simple system - namely, the launching of a cannonball.  A cannonball's position ($\\vec{x}$) and velocity ($\\vec{v}$) evolve according to a simple set of rules:\n",
    "\n",
    "$$\\vec{x} = \\int_0^t \\vec{v} dt$$\n",
    "\n",
    "$$\\vec{v} = \\int_0^t \\vec{a} dt$$\n",
    "\n",
    "$$\\vec{a} = \\frac{1}{m}\\frac{d\\vec{p}}{dt} = \\frac{1}{m}\\sum \\vec{F}$$\n",
    "\n",
    "Note that $\\vec{a}$ is the acceleration, $\\vec{p} = m\\vec{v}$ is the momentum, and m is the mass of the cannonball.  In the last term of the third equation, the sum is over all forces acting on the cannonball.  The constants in the definite integrals are set to the values $\\vec{x}_0$ and $\\vec{v}_0$, i.e., the position and velocity at $t=0$.  Note that these equations can be rewritten as initial-value problems:\n",
    "\n",
    "$$\\frac{d\\vec{x}}{dt} = \\vec{v}$$\n",
    "\n",
    "$$\\frac{d\\vec{v}}{dt} = \\vec{a} = \\frac{1}{m} \\sum \\vec{F}$$\n",
    "\n",
    "With $\\vec{x}_0$ and $\\vec{v}_0$ given as initial values at $t=0$.\n",
    "\n",
    "The forces acting on the cannonball are gravity, which acts downward with a magnitude of acceleration of $g=9.81$m s$^{-2}$, and air resistance, which can be written as:\n",
    "\n",
    "$$F_{air} = -\\frac{1}{2} C \\rho A v^2 \\hat{v}$$\n",
    "\n",
    "Where C is a constant corresponding to the shape of the object ($C=0.47$ for a sphere), $\\rho$ is the density of the atmosphere, 1.2 kg/m$^3$, A is the cross-sectional area of the object, $v$ is the magnitude of the velocity, and $\\hat{v}$ is the unit vector of the velocity, which indicates that the force of the air drag is along the direction of motion. *Note the minus sign* - this means that the force of air resistance always opposes the motion of the cannonball, regardless of its direction.\n",
    "\n",
    "When tracking the motion of the cannonball, you should break the system up so that you track the following four quantities:\n",
    "\n",
    "* $x$, the position in the $x$-direction\n",
    "* $y$, the position in the $y$-direction\n",
    "* $v_x$, the velocity in the $x$-direction\n",
    "* $v_y$, the position in the $y$-direction\n",
    "\n",
    "You can start the cannonball at the origin, (0,0), and define your initial values for velocities to be:\n",
    "\n",
    "* $v_{x,0} = v_0\\cos(\\theta)$\n",
    "* $v_{x,0} = v_0\\sin(\\theta)$\n",
    "\n",
    "where $v_0$ is the initial magnitude of the velocity.\n",
    "\n",
    "**Note**: While you might not necessarily have a background in physics, the important parts of this assignment do not require such a background. The goal of the assignment is to implement a numerical solution to the system of ODEs, so if you're having trouble figuring out what the system of equations is, make sure to stop by office hours or help room hours! "
   ]
  },
  {
   "cell_type": "markdown",
   "metadata": {},
   "source": [
    "### Solutions to a system of ODEs\n",
    "\n",
    "Recall that when you have a variable, $x$, that evolves as a function of time, $\\frac{dx}{dt} = f(t,x)$, you can use the **forward Euler method** to step the solution forward in time in the following way:\n",
    "\n",
    "$$x(t+\\Delta t) = x(t) + \\Delta t\\frac{dx}{dt} = x(t) + \\Delta t~f(t,x)$$\n",
    "\n",
    "We can simplify the notation by defining $x_n = x(t_n)$ and $x_{n+1} = x(t+\\Delta t) = x(t_{n+1})$ so that the above equation becomes:\n",
    "\n",
    "$$x_{n+1} = x_n + \\Delta t~f(t_n,x_n)$$\n",
    "\n",
    "You can read more about this method [here](https://en.wikipedia.org/wiki/Euler_method).\n",
    "\n",
    "If we want to evolve that variable using the **midpoint method** (also sometimes called the second order Runge-Kutta method), then we can compute the evolution of the system this way\n",
    "\n",
    "$$x_{n+1} = x_n + \\Delta t~f\\big(t_n + \\frac{\\Delta t}{2}, x_n + \\frac{\\Delta t}{2}f(t_n, x_n)\\big)$$\n",
    "\n",
    "Essentially, with the midpoint method, we take a half step and then use the information at that half step to take our full step. We can write this in a slightly simpler way by doing a bit of new variable definition:\n",
    "\n",
    "$$k_1 = \\Delta t~f(t_n,x_n)$$\n",
    "$$k_2 = \\Delta t~f\\big(t_n + \\frac{\\Delta t}{2}, x_n + \\frac{k_1}{2}\\big)$$\n",
    "$$x_{n+1} = x_n + k_2$$\n",
    "\n",
    "You can read more about this method [here](https://en.wikipedia.org/wiki/Midpoint_method)."
   ]
  },
  {
   "cell_type": "markdown",
   "metadata": {},
   "source": [
    "---\n",
    "### Question 1\n",
    "\n",
    "Consider a spherical cannonball made of lead, which has a radius of 10 cm and a density of 11.34 g $cm^{-3}$, and is launched in the air with a velocity of 100 m/s at an angle of $40^\\circ$ with respect to the horizontal on a level surface.  <i>In the absence of air resistance</i>, **use the forward Euler method** to determine where the cannonball lands. You can treating \"landing\" as the moment when the height of the cannonball first becomes negative.  Compare this to the distance obtained using the range equation:\n",
    "\n",
    "$$d = \\frac{v_0^2 \\sin 2 \\theta}{g}$$\n",
    "\n",
    "Assuming you want your calculated distance to be within 1% of the true value, **how many steps are required by your forward Euler solution to reach this level of accuracy?**\n",
    "\n",
    "You can define a measurement of the error in the following way:\n",
    "\n",
    "$$E = \\frac{\\big|d_{\\mathrm{true}} - d_{\\mathrm{calculated}}\\big|}{d_{\\mathrm{true}}}$$\n",
    "\n",
    "**Include a plot the trajectory of the cannonball and print the number of steps it your solultion took and the amount of error in the solution.**"
   ]
  },
  {
   "cell_type": "code",
   "execution_count": 8,
   "metadata": {
    "collapsed": true
   },
   "outputs": [],
   "source": [
    "import numpy as np\n",
    "import matplotlib.pyplot as plt\n",
    "%matplotlib inline"
   ]
  },
  {
   "cell_type": "code",
   "execution_count": 26,
   "metadata": {},
   "outputs": [],
   "source": [
    "v_0 = 100 #m/s\n",
    "r = 10 #cm\n",
    "d = 11.34 #g/cm^3\n",
    "angle = np.deg2rad(40) #converted degrees to radians for np.sin\n",
    "g = 9.81 #m/s^2\n",
    "d_true =  v_0**2*np.sin(2*angle)/g"
   ]
  },
  {
   "cell_type": "code",
   "execution_count": 27,
   "metadata": {
    "collapsed": true
   },
   "outputs": [],
   "source": [
    "def fEuler(posx,posy,velx,vely,accelx,accely,dt):\n",
    "    vx_new = velx + accelx*dt\n",
    "    vy_new = vely + accely*dt\n",
    "    posx_new = posx + velx*dt\n",
    "    posy_new = posy + vely*dt\n",
    "\n",
    "    return vx_new, vy_new, posx_new, posy_new"
   ]
  },
  {
   "cell_type": "code",
   "execution_count": 28,
   "metadata": {},
   "outputs": [
    {
     "name": "stdout",
     "output_type": "stream",
     "text": [
      "The error is: 0.96%, The calculated distance is: 1013.48, The true distance is: 1003.88, The number of steps is: 136\n"
     ]
    },
    {
     "data": {
      "image/png": "[encoded data removed]",
      "text/plain": [
       "<matplotlib.figure.Figure at 0x1e1573a8fd0>"
      ]
     },
     "metadata": {},
     "output_type": "display_data"
    }
   ],
   "source": [
    "vx0 = v_0*np.cos(angle)\n",
    "vy0 = v_0*np.sin(angle)\n",
    "x0 = 0\n",
    "y0 = 0\n",
    "\n",
    "x1=[0]\n",
    "y1=[0]\n",
    "t1=[0]\n",
    "vx1 = [vx0]\n",
    "vy1 = [vy0]\n",
    "\n",
    "t=0\n",
    "dt=.098\n",
    "\n",
    "while y0>=0:\n",
    "    \n",
    "    vx,vy,x,y = fEuler(x0,y0,vx0,vy0,0,-g,dt)\n",
    "    \n",
    "    vx0,vy0,x0,y0 = vx,vy,x,y\n",
    "    \n",
    "    t += dt\n",
    "    \n",
    "    x1.append(x0)\n",
    "    y1.append(y0)\n",
    "    vx1.append(vx0)\n",
    "    vy1.append(vy0)\n",
    "    t1.append(t)\n",
    "    \n",
    "plt.plot(x1,y1)\n",
    "y1.index(max(y1))\n",
    "    \n",
    "E = np.abs(d_true - x1[-1])/d_true*100\n",
    "\n",
    "print('The error is: {0:.2f}%, The calculated distance is: {1:.2f}, The true \\\n",
    "distance is: {2:.2f}, The number of steps is: {3:}'.format(E,x1[-1],d_true,\\\n",
    "len(x1)))"
   ]
  },
  {
   "cell_type": "markdown",
   "metadata": {},
   "source": [
    "---\n",
    "### Question 2\n",
    "\n",
    "Repeat the above calcuation, but this time **use the midpoint method (2nd order Runge-Kutta; RK2)**.\n",
    "\n",
    "Again, how many steps are required by your midpoint method solution to reach 1% accuracy?\n",
    "\n",
    "**Include a plot the trajectory of the cannonball and print the number of steps it your solultion took and the amount of error in the solution.**"
   ]
  },
  {
   "cell_type": "code",
   "execution_count": 29,
   "metadata": {
    "collapsed": true
   },
   "outputs": [],
   "source": [
    "def midpoint(posx,posy,velx,vely,accelx,accely,dt):\n",
    "    \n",
    "    vx_new = velx + dt*(accelx) \n",
    "    vy_new = vely + dt*((accely))\n",
    "    posx_new = posx + dt*(velx +(dt/2)*accelx)\n",
    "    posy_new = posy + dt*(vely +(dt/2)*accely)\n",
    "    \n",
    "    return vx_new, vy_new, posx_new, posy_new"
   ]
  },
  {
   "cell_type": "code",
   "execution_count": 30,
   "metadata": {},
   "outputs": [
    {
     "name": "stdout",
     "output_type": "stream",
     "text": [
      "1011.17866492\n",
      "The error is: 0.73%, The calculated distance is: 1011.18, The true distance is: 1003.88, The number of steps is: 34\n"
     ]
    },
    {
     "data": {
      "image/png": "[encoded data removed]",
      "text/plain": [
       "<matplotlib.figure.Figure at 0x1e1579740f0>"
      ]
     },
     "metadata": {},
     "output_type": "display_data"
    }
   ],
   "source": [
    "vx0 = v_0*np.cos(angle)\n",
    "vy0 = v_0*np.sin(angle)\n",
    "x0 = 0\n",
    "y0 = 0\n",
    "\n",
    "x2=[0]\n",
    "y2=[0]\n",
    "t2=[0]\n",
    "vx2 = [vx0]\n",
    "vy2 = [vy0]\n",
    "\n",
    "t=0\n",
    "dt=.4\n",
    "\n",
    "while y0>=0:\n",
    "    \n",
    "    vx,vy,x,y = midpoint(x0,y0,vx0,vy0,0,-g,dt)\n",
    "    \n",
    "    vx0,vy0,x0,y0 = vx,vy,x,y\n",
    "    \n",
    "    t += dt\n",
    "    \n",
    "    x2.append(x0)\n",
    "    y2.append(y0)\n",
    "    vx2.append(vx0)\n",
    "    vy2.append(vy0)\n",
    "    t2.append(t)\n",
    "\n",
    "plt.plot(x2,y2)\n",
    "y2.index(max(y2))\n",
    "print(max(x2))\n",
    "    \n",
    "E = np.abs(d_true - x2[-1])/d_true*100\n",
    "\n",
    "print('The error is: {0:.2f}%, The calculated distance is: {1:.2f}, The true \\\n",
    "distance is: {2:.2f}, The number of steps is: {3:}'.format(E,x2[-1],d_true,\\\n",
    "len(x2)))"
   ]
  },
  {
   "cell_type": "markdown",
   "metadata": {},
   "source": [
    "---\n",
    "### Question 3\n",
    "\n",
    "Now you're going to implement air resistance in your models. Using the information provided above, recompute your landing distances using both methods.\n",
    "\n",
    "Since you no longer have an equation for the true distance when the effects of air resistance are included, you should test the accuracy of your solution by keeping track of how much your answer changes as you change the step size. You should decrease the step size until your answer changes by less than 1%.\n",
    "\n",
    "**Include a plot of the trajectory of your solution for both the forward Euler method and the midpoint method. Print the number of steps required by each method. Does the behavior of the cannonball path when air resistance is include seem to make sense?**"
   ]
  },
  {
   "cell_type": "code",
   "execution_count": null,
   "metadata": {
    "collapsed": true
   },
   "outputs": [],
   "source": []
  },
  {
   "cell_type": "markdown",
   "metadata": {},
   "source": [
    "---\n",
    "### Question 4\n",
    "\n",
    "Once you have a functional solution that includes air resistance for both numerical methods, make one last plot where you take the best step size from your midpoint method solution and recompute the solution for both methods using the **same step size**. Then, **make a plot that includes the trajectories for both solutions** to compare how the solution from the less accurate forward Euler method compares to the solution from the midpoint method when air resistance is included.\n",
    "\n",
    "**Does the forward Euler method underestimate or overestimate the effects of air resistance?**"
   ]
  },
  {
   "cell_type": "markdown",
   "metadata": {},
   "source": [
    "---\n",
    "## Assignment wrap-up\n",
    "\n",
    "Please fill out the form that appears when you run the code below.  **You must completely fill this out in order to receive credit for the assignment!**"
   ]
  },
  {
   "cell_type": "code",
   "execution_count": null,
   "metadata": {
    "collapsed": true
   },
   "outputs": [],
   "source": [
    "from IPython.display import HTML\n",
    "HTML(\n",
    "\"\"\"\n",
    "<iframe \n",
    "\tsrc=\"https://goo.gl/forms/rRqbVfls0YDFTONb2\" \n",
    "\twidth=\"80%\" \n",
    "\theight=\"1200px\" \n",
    "\tframeborder=\"0\" \n",
    "\tmarginheight=\"0\" \n",
    "\tmarginwidth=\"0\">\n",
    "\tLoading...\n",
    "</iframe>\n",
    "\"\"\"\n",
    ")"
   ]
  },
  {
   "cell_type": "markdown",
   "metadata": {},
   "source": [
    "### Congratulations, you're done!\n",
    "\n",
    "Submit this assignment by uploading it to the course Desire2Learn web page.  Go to the \"Homework Assignments\" folder, find the dropbox link for Homework #2, and upload it there. If you wrote your code in a script, upload a copy of the script(s) as well. "
   ]
  }
 ],
 "metadata": {
  "kernelspec": {
   "display_name": "Python 3",
   "language": "python",
   "name": "python3"
  },
  "language_info": {
   "codemirror_mode": {
    "name": "ipython",
    "version": 3
   },
   "file_extension": ".py",
   "mimetype": "text/x-python",
   "name": "python",
   "nbconvert_exporter": "python",
   "pygments_lexer": "ipython3",
   "version": "3.6.2"
  }
 },
 "nbformat": 4,
 "nbformat_minor": 1
}
